{
 "cells": [
  {
   "cell_type": "code",
   "execution_count": null,
   "metadata": {
    "ExecuteTime": {
     "end_time": "2023-10-11T08:40:05.690371Z",
     "start_time": "2023-10-11T08:40:05.687400Z"
    },
    "scrolled": true
   },
   "outputs": [],
   "source": [
    "import pickle\n",
    "import pandas as pd\n",
    "import numpy as np\n",
    "from sklearn.decomposition import PCA\n",
    "import matplotlib.pyplot as plt\n",
    "from sklearn.preprocessing import LabelEncoder"
   ]
  },
  {
   "cell_type": "markdown",
   "metadata": {},
   "source": [
    "# Load features"
   ]
  },
  {
   "cell_type": "code",
   "execution_count": null,
   "metadata": {
    "ExecuteTime": {
     "end_time": "2023-10-11T08:40:06.380383Z",
     "start_time": "2023-10-11T08:40:06.366593Z"
    }
   },
   "outputs": [],
   "source": [
    "df_labeled = pickle.load(open(\"ip_filtered_features.pkl\", \"rb\"))"
   ]
  },
  {
   "cell_type": "code",
   "execution_count": null,
   "metadata": {
    "ExecuteTime": {
     "end_time": "2023-10-11T08:40:06.971283Z",
     "start_time": "2023-10-11T08:40:06.944619Z"
    },
    "scrolled": true
   },
   "outputs": [],
   "source": [
    "df_labeled"
   ]
  },
  {
   "cell_type": "code",
   "execution_count": null,
   "metadata": {
    "ExecuteTime": {
     "end_time": "2023-10-11T08:40:29.734652Z",
     "start_time": "2023-10-11T08:40:29.726899Z"
    }
   },
   "outputs": [],
   "source": [
    "df_fridge = df_labeled[df_labeled['device'] == 'refrigerator']\n",
    "df_washer = df_labeled[df_labeled['device'] == 'washer']\n",
    "df_alexa = df_labeled[df_labeled['device'] == 'alexa']\n",
    "df_nestcam = df_labeled[df_labeled['device'] == 'nestcam']\n",
    "df_vacuum = df_labeled[(df_labeled['device'] == 'vacuum') & (df_labeled['environment'] == 'lab')]\n",
    "df_vacuum_home = df_labeled[(df_labeled['device'] == 'vacuum') & (df_labeled['environment'] == 'home')]"
   ]
  },
  {
   "cell_type": "code",
   "execution_count": null,
   "metadata": {
    "ExecuteTime": {
     "end_time": "2023-10-11T08:40:56.546765Z",
     "start_time": "2023-10-11T08:40:56.541784Z"
    },
    "scrolled": true
   },
   "outputs": [],
   "source": [
    "df_labeled.groupby('activity').size()"
   ]
  },
  {
   "cell_type": "code",
   "execution_count": null,
   "metadata": {
    "ExecuteTime": {
     "end_time": "2023-10-11T08:40:59.134434Z",
     "start_time": "2023-10-11T08:40:58.894227Z"
    }
   },
   "outputs": [],
   "source": [
    "import matplotlib.pyplot as plt\n",
    "df_labeled['duration'].hist(bins = 100)"
   ]
  },
  {
   "cell_type": "markdown",
   "metadata": {},
   "source": [
    "# PCA assessment"
   ]
  },
  {
   "cell_type": "code",
   "execution_count": null,
   "metadata": {
    "ExecuteTime": {
     "end_time": "2023-10-11T08:41:04.209320Z",
     "start_time": "2023-10-11T08:41:04.169204Z"
    }
   },
   "outputs": [],
   "source": [
    "feat_sf_array = np.array(df_labeled.feat_sf.tolist())\n",
    "feat_netml_array = np.array(df_labeled.feat_netml.tolist())"
   ]
  },
  {
   "cell_type": "code",
   "execution_count": null,
   "metadata": {
    "ExecuteTime": {
     "end_time": "2023-10-11T08:41:04.847256Z",
     "start_time": "2023-10-11T08:41:04.529394Z"
    },
    "id": "E6yy6OQZPN9Z"
   },
   "outputs": [],
   "source": [
    "pca_sf = PCA()\n",
    "pca_netml = PCA()\n",
    "Y_sf = pca_sf.fit_transform(feat_sf_array)\n",
    "Y_netml = pca_netml.fit_transform(feat_netml_array)\n",
    "act_npy = np.array(df_labeled.activity.tolist())\n",
    "user_npy = np.array(df_labeled.user.tolist())\n",
    "device_npy = np.array(df_labeled.device.tolist())"
   ]
  },
  {
   "cell_type": "markdown",
   "metadata": {},
   "source": [
    "## SlowFast"
   ]
  },
  {
   "cell_type": "code",
   "execution_count": null,
   "metadata": {
    "ExecuteTime": {
     "end_time": "2023-10-11T08:41:05.493815Z",
     "start_time": "2023-10-11T08:41:05.378627Z"
    },
    "colab": {
     "base_uri": "https://localhost:8080/",
     "height": 283
    },
    "id": "ZSldZvG9Pg-T",
    "outputId": "f2243cd2-c12f-42ed-d473-8051ca129cca",
    "scrolled": true
   },
   "outputs": [],
   "source": [
    "plt.scatter(Y_sf[:,0],Y_sf[:,1])"
   ]
  },
  {
   "cell_type": "code",
   "execution_count": null,
   "metadata": {
    "ExecuteTime": {
     "end_time": "2023-10-11T08:41:06.167469Z",
     "start_time": "2023-10-11T08:41:05.707332Z"
    },
    "colab": {
     "base_uri": "https://localhost:8080/",
     "height": 283
    },
    "id": "q1yn46DMP2rj",
    "outputId": "edf83fd3-bcff-49f6-8232-892a15b502ca"
   },
   "outputs": [],
   "source": [
    "for l in df_labeled.activity.unique():\n",
    "    plt.scatter(Y_sf[act_npy==l,0],Y_sf[act_npy==l,1])\n",
    "plt.legend(df_labeled.activity.unique())"
   ]
  },
  {
   "cell_type": "code",
   "execution_count": null,
   "metadata": {
    "ExecuteTime": {
     "end_time": "2023-10-11T08:41:06.836166Z",
     "start_time": "2023-10-11T08:41:06.522666Z"
    }
   },
   "outputs": [],
   "source": [
    "lset = df_labeled.user.unique()\n",
    "for l in lset:\n",
    "    plt.scatter(Y_sf[user_npy==l,0],Y_sf[user_npy==l,1])\n",
    "plt.legend(lset)"
   ]
  },
  {
   "cell_type": "markdown",
   "metadata": {},
   "source": [
    "## NetML"
   ]
  },
  {
   "cell_type": "code",
   "execution_count": null,
   "metadata": {
    "ExecuteTime": {
     "end_time": "2023-10-11T08:41:08.193094Z",
     "start_time": "2023-10-11T08:41:07.889713Z"
    }
   },
   "outputs": [],
   "source": [
    "plt.scatter(Y_netml[:,0],Y_netml[:,1])\n",
    "plt.xlim(-1e5, 3e5)"
   ]
  },
  {
   "cell_type": "code",
   "execution_count": null,
   "metadata": {
    "ExecuteTime": {
     "end_time": "2023-10-11T08:41:09.415393Z",
     "start_time": "2023-10-11T08:41:08.958550Z"
    }
   },
   "outputs": [],
   "source": [
    "for l in df_labeled.activity.unique():\n",
    "    plt.scatter(Y_netml[act_npy==l,0],Y_netml[act_npy==l,1])\n",
    "plt.legend(df_labeled.activity.unique())\n",
    "plt.xlim(-1e5, 3e5)"
   ]
  },
  {
   "cell_type": "code",
   "execution_count": null,
   "metadata": {
    "ExecuteTime": {
     "end_time": "2023-10-11T08:41:10.889593Z",
     "start_time": "2023-10-11T08:41:10.630488Z"
    }
   },
   "outputs": [],
   "source": [
    "lset = df_labeled.user.unique()\n",
    "for l in lset:\n",
    "    plt.scatter(Y_netml[user_npy==l,0],Y_netml[user_npy==l,1])\n",
    "plt.legend(lset)\n",
    "plt.xlim(-1e5, 3e5)"
   ]
  },
  {
   "cell_type": "markdown",
   "metadata": {},
   "source": [
    "# Single Modality Modeling"
   ]
  },
  {
   "cell_type": "code",
   "execution_count": null,
   "metadata": {
    "ExecuteTime": {
     "end_time": "2023-10-11T08:43:19.870615Z",
     "start_time": "2023-10-11T08:43:19.852791Z"
    }
   },
   "outputs": [],
   "source": [
    "import numpy as np\n",
    "import pandas as pd\n",
    "\n",
    "from sklearn.multiclass import OneVsRestClassifier\n",
    "from sklearn.linear_model import LogisticRegression\n",
    "from sklearn.ensemble import RandomForestClassifier\n",
    "from sklearn.metrics import classification_report\n",
    "from sklearn.inspection import permutation_importance\n",
    "\n",
    "from sklearn.model_selection import KFold\n",
    "from sklearn.metrics import f1_score\n",
    "from sklearn.metrics import accuracy_score\n",
    "from sklearn.metrics import precision_score\n",
    "from sklearn.metrics import recall_score\n",
    "\n",
    "def evaluate_model(df_labeled, label, ft_type='feat_sf', verbose=False, by_user=False):\n",
    "    if ft_type == 'feat_sf':\n",
    "        classifiers={\"OvRLogReg\": OneVsRestClassifier(LogisticRegression(random_state=42, max_iter=1000)),}\n",
    "    elif ft_type == 'feat_netml':\n",
    "        classifiers={\"RF\": RandomForestClassifier(random_state=42),}\n",
    "    if by_user:\n",
    "        df_labeled = df_labeled.replace('1', '7')\n",
    "        user_li = df_labeled.user.tolist()\n",
    "        choice_li = df_labeled.user.unique().tolist()\n",
    "        for item_ in range(np.shape(choice_li)[0]):\n",
    "            if choice_li[item_] == '0':\n",
    "                del choice_li[item_]\n",
    "        random.seed(42)\n",
    "        for item_num in range(0, np.shape(user_li)[0]):\n",
    "            if user_li[item_num] == '0':\n",
    "                user_li[item_num] = random.choice(choice_li)\n",
    "        df_labeled['user'] = user_li\n",
    "        \n",
    "        if np.shape(df_labeled.user.unique())[0] < 5:\n",
    "            gkf = GroupKFold(n_splits=np.shape(df_labeled.user.unique())[0])\n",
    "        else:\n",
    "            gkf = GroupKFold(n_splits=5)\n",
    "        index_li = list(gkf.split(df_labeled, groups=df_labeled.user.tolist()))\n",
    "    else:\n",
    "        kf = KFold(n_splits = 5, shuffle = True, random_state = 42)\n",
    "        index_li = list(kf.split(df_labeled))\n",
    "\n",
    "    if np.shape(df_labeled['device'].unique())[0] > 1:\n",
    "        device = \"combined\"\n",
    "    else:\n",
    "        device = df_labeled['device'].unique()[0]\n",
    "    \n",
    "    df_stats = pd.DataFrame(columns=[\"classifier\", \"device\", \"accuracy\", \"precision\", \"recall\", \"f1_micro\", \"f1_macro\", \"f1_weighted\", \"feature\"])\n",
    "    for key in classifiers:\n",
    "        clf = classifiers[key]\n",
    "        Ytrue_li = []\n",
    "        Ypred_li = []\n",
    "        for train_index, test_index in index_li:\n",
    "            df_train = df_labeled.iloc[train_index].sample(frac=0.85, random_state=42)\n",
    "            df_test = df_labeled.iloc[test_index]\n",
    "            if ft_type == 'duration':\n",
    "                clf.fit(np.array(df_train[ft_type].tolist()).reshape(-1, 1), df_train[label].tolist())\n",
    "            else:\n",
    "                clf.fit(df_train[ft_type].tolist(), df_train[label].tolist())\n",
    "\n",
    "            if ft_type == 'duration':\n",
    "                Ypred = clf.predict(np.array(df_test[ft_type].tolist()).reshape(-1, 1))\n",
    "            else:\n",
    "                Ytrue = df_test[label].tolist()\n",
    "                Ypred = clf.predict(df_test[ft_type].tolist())\n",
    "\n",
    "                Ytrue_li.append(Ytrue)\n",
    "                Ypred_li.append(Ypred)\n",
    "                \n",
    "                if verbose:\n",
    "                    result = permutation_importance(\n",
    "                        clf, df_test[ft_type].tolist(), df_test[label].tolist(), n_repeats=10, random_state=42, n_jobs=2\n",
    "                    )\n",
    "                    if ft_type == 'feat_sf':\n",
    "                        feature_names = ['feature' + str(i) for i in range(400)]\n",
    "                    elif ft_type == 'feat_netml':\n",
    "                        feature_names = [\"sub_duration_outbound\", \"pkts_rate_outbound\", \"bytes_rate_outbound\", \"np.mean(sizes)_outbound\", \"np.std(sizes)_outbound\", \"q1_size_outbound\", \n",
    "                                           \"q2_size_outbound\", 'q3_size_outbound', \"np.min(sizes)_outbound\", 'np.max(sizes)_outbound', \"np.mean(iats)_outbound\", 'np.std(iats)_outbound', \n",
    "                                           \"q1_iat_outbound\", 'q2_iat_outbound', \"q3_iat_outbound\", \"np.min(iats)_outbound\", 'np.max(iats)_outbound', \"flow_num_outbound\",\n",
    "                                           \"sub_duration_inbound\", \"pkts_rate_inbound\", \"bytes_rate_inbound\", \"np.mean(sizes)_inbound\", \"np.std(sizes)_inbound\", \"q1_size_inbound\", \n",
    "                                           \"q2_size_inbound\", 'q3_size_inbound', \"np.min(sizes)_inbound\", 'np.max(sizes)_inbound', \"np.mean(iats)_inbound\", 'np.std(iats)_inbound', \n",
    "                                           \"q1_iat_inbound\", 'q2_iat_inbound',\" q3_iat_inbound\", \"np.min(iats)_inbound\", 'np.max(iats)_inbound', \"flow_num_inbound\"]\n",
    "\n",
    "                    importances = pd.Series(result.importances_mean, index=feature_names)\n",
    "                    print(key, label)\n",
    "                    print(classification_report(Ytrue, Ypred))\n",
    "            \n",
    "            acc = accuracy_score(Ytrue, Ypred)\n",
    "            pre = precision_score(Ytrue, Ypred, average='weighted')\n",
    "            rec = recall_score(Ytrue, Ypred, average='weighted')\n",
    "            f1_micro = f1_score(Ytrue, Ypred, average='micro')\n",
    "            f1_macro = f1_score(Ytrue, Ypred, average='macro')\n",
    "            f1_weighted = f1_score(Ytrue, Ypred, average='weighted')\n",
    "            \n",
    "            df_stats_this = pd.DataFrame({ \"classifier\": key, \"device\": device,\n",
    "                                          \"feature\": ft_type, \n",
    "                                          \"accuracy\": acc, \"precision\": pre,\n",
    "                                          \"recall\": rec, \"f1_micro\":f1_micro,\n",
    "                                          \"f1_macro\":f1_macro, \"f1_weighted\":f1_weighted}, index=[0])\n",
    "            df_stats = df_stats.append(df_stats_this, ignore_index=True)\n",
    "    \n",
    "    return df_stats\n"
   ]
  },
  {
   "cell_type": "markdown",
   "metadata": {},
   "source": [
    "## Activity"
   ]
  },
  {
   "cell_type": "markdown",
   "metadata": {},
   "source": [
    "### Only fridge"
   ]
  },
  {
   "cell_type": "code",
   "execution_count": null,
   "metadata": {
    "ExecuteTime": {
     "end_time": "2023-10-11T08:43:55.804851Z",
     "start_time": "2023-10-11T08:43:44.946616Z"
    },
    "scrolled": true
   },
   "outputs": [],
   "source": [
    "# Video Only\n",
    "evaluate_model(df_fridge, 'activity')"
   ]
  },
  {
   "cell_type": "code",
   "execution_count": null,
   "metadata": {
    "ExecuteTime": {
     "end_time": "2023-10-11T08:44:02.041713Z",
     "start_time": "2023-10-11T08:44:00.722206Z"
    },
    "scrolled": true
   },
   "outputs": [],
   "source": [
    "# Network Only\n",
    "evaluate_model(df_fridge, 'activity', ft_type=\"feat_netml\")"
   ]
  },
  {
   "cell_type": "markdown",
   "metadata": {},
   "source": [
    "#### Fridge (4-class)"
   ]
  },
  {
   "cell_type": "code",
   "execution_count": null,
   "metadata": {
    "ExecuteTime": {
     "end_time": "2023-10-11T08:46:27.456980Z",
     "start_time": "2023-10-11T08:46:20.584049Z"
    },
    "scrolled": true
   },
   "outputs": [],
   "source": [
    "evaluate_model(df_fridge.replace(['put_back_item', 'take_out_item'], 'open_close_fridge'), 'activity')"
   ]
  },
  {
   "cell_type": "code",
   "execution_count": null,
   "metadata": {
    "ExecuteTime": {
     "end_time": "2023-10-11T08:47:08.066888Z",
     "start_time": "2023-10-11T08:47:06.474130Z"
    },
    "scrolled": true
   },
   "outputs": [],
   "source": [
    "evaluate_model(df_fridge.replace(['put_back_item', 'take_out_item'], 'open_close_fridge'), 'activity', ft_type=\"feat_netml\")"
   ]
  },
  {
   "cell_type": "markdown",
   "metadata": {},
   "source": [
    "### Only washer"
   ]
  },
  {
   "cell_type": "code",
   "execution_count": null,
   "metadata": {
    "ExecuteTime": {
     "end_time": "2023-10-11T08:47:48.648510Z",
     "start_time": "2023-10-11T08:47:42.878809Z"
    },
    "scrolled": true
   },
   "outputs": [],
   "source": [
    "evaluate_model(df_washer, 'activity')"
   ]
  },
  {
   "cell_type": "code",
   "execution_count": null,
   "metadata": {
    "ExecuteTime": {
     "end_time": "2023-10-11T08:47:49.956902Z",
     "start_time": "2023-10-11T08:47:49.076267Z"
    },
    "scrolled": true
   },
   "outputs": [],
   "source": [
    "evaluate_model(df_washer, 'activity', ft_type=\"feat_netml\")"
   ]
  },
  {
   "cell_type": "markdown",
   "metadata": {},
   "source": [
    "### Only Alexa"
   ]
  },
  {
   "cell_type": "code",
   "execution_count": null,
   "metadata": {
    "ExecuteTime": {
     "end_time": "2023-10-11T08:49:39.454087Z",
     "start_time": "2023-10-11T08:49:36.751572Z"
    },
    "scrolled": true
   },
   "outputs": [],
   "source": [
    "evaluate_model(df_alexa, 'activity')"
   ]
  },
  {
   "cell_type": "code",
   "execution_count": null,
   "metadata": {
    "ExecuteTime": {
     "end_time": "2023-10-11T08:49:47.220075Z",
     "start_time": "2023-10-11T08:49:46.411385Z"
    }
   },
   "outputs": [],
   "source": [
    "evaluate_model(df_alexa, 'activity', ft_type=\"feat_netml\")"
   ]
  },
  {
   "cell_type": "markdown",
   "metadata": {},
   "source": [
    "### Only nestcam"
   ]
  },
  {
   "cell_type": "code",
   "execution_count": null,
   "metadata": {
    "ExecuteTime": {
     "end_time": "2023-10-11T08:51:13.266180Z",
     "start_time": "2023-10-11T08:51:11.398713Z"
    },
    "scrolled": true
   },
   "outputs": [],
   "source": [
    "evaluate_model(df_nestcam, 'activity')"
   ]
  },
  {
   "cell_type": "code",
   "execution_count": null,
   "metadata": {
    "ExecuteTime": {
     "end_time": "2023-10-11T08:51:20.061172Z",
     "start_time": "2023-10-11T08:51:19.324517Z"
    },
    "scrolled": true
   },
   "outputs": [],
   "source": [
    "evaluate_model(df_nestcam, 'activity', ft_type=\"feat_netml\")"
   ]
  },
  {
   "cell_type": "markdown",
   "metadata": {},
   "source": [
    "### Only vacuum "
   ]
  },
  {
   "cell_type": "code",
   "execution_count": null,
   "metadata": {
    "ExecuteTime": {
     "end_time": "2023-10-11T08:55:09.028091Z",
     "start_time": "2023-10-11T08:55:07.781459Z"
    },
    "scrolled": true
   },
   "outputs": [],
   "source": [
    "evaluate_model(df_vacuum, 'activity')"
   ]
  },
  {
   "cell_type": "code",
   "execution_count": null,
   "metadata": {
    "ExecuteTime": {
     "end_time": "2023-10-11T08:55:17.132773Z",
     "start_time": "2023-10-11T08:55:16.397408Z"
    }
   },
   "outputs": [],
   "source": [
    "evaluate_model(df_vacuum, 'activity', ft_type=\"feat_netml\")"
   ]
  },
  {
   "cell_type": "markdown",
   "metadata": {},
   "source": [
    "### Only vacuum (home)"
   ]
  },
  {
   "cell_type": "code",
   "execution_count": null,
   "metadata": {
    "ExecuteTime": {
     "end_time": "2023-10-11T08:55:44.387028Z",
     "start_time": "2023-10-11T08:55:43.013502Z"
    },
    "scrolled": true
   },
   "outputs": [],
   "source": [
    "evaluate_model(df_vacuum_home, 'activity')"
   ]
  },
  {
   "cell_type": "code",
   "execution_count": null,
   "metadata": {
    "ExecuteTime": {
     "end_time": "2023-10-11T08:55:52.121573Z",
     "start_time": "2023-10-11T08:55:51.390518Z"
    },
    "scrolled": true
   },
   "outputs": [],
   "source": [
    "evaluate_model(df_vacuum_home, 'activity', ft_type=\"feat_netml\")"
   ]
  },
  {
   "cell_type": "markdown",
   "metadata": {},
   "source": [
    "## User"
   ]
  },
  {
   "cell_type": "code",
   "execution_count": null,
   "metadata": {
    "ExecuteTime": {
     "end_time": "2023-10-11T08:56:16.358137Z",
     "start_time": "2023-10-11T08:56:08.264350Z"
    },
    "scrolled": true
   },
   "outputs": [],
   "source": [
    "evaluate_model(df_labeled.replace('1', '7'), 'user')"
   ]
  },
  {
   "cell_type": "code",
   "execution_count": null,
   "metadata": {
    "ExecuteTime": {
     "end_time": "2023-10-11T08:56:19.482908Z",
     "start_time": "2023-10-11T08:56:16.361832Z"
    },
    "scrolled": true
   },
   "outputs": [],
   "source": [
    "evaluate_model(df_labeled.replace('1', '7'), 'user', ft_type='feat_netml')"
   ]
  },
  {
   "cell_type": "markdown",
   "metadata": {},
   "source": [
    "## Device"
   ]
  },
  {
   "cell_type": "code",
   "execution_count": null,
   "metadata": {
    "ExecuteTime": {
     "end_time": "2023-10-11T08:56:38.796638Z",
     "start_time": "2023-10-11T08:56:29.260896Z"
    },
    "scrolled": true
   },
   "outputs": [],
   "source": [
    "evaluate_model(df_labeled, 'device')"
   ]
  },
  {
   "cell_type": "code",
   "execution_count": null,
   "metadata": {
    "ExecuteTime": {
     "end_time": "2023-10-11T08:56:45.496443Z",
     "start_time": "2023-10-11T08:56:43.581516Z"
    },
    "scrolled": true
   },
   "outputs": [],
   "source": [
    "evaluate_model(df_labeled, 'device', ft_type='feat_netml')"
   ]
  },
  {
   "cell_type": "markdown",
   "metadata": {},
   "source": [
    "# Feature Fusion"
   ]
  },
  {
   "cell_type": "code",
   "execution_count": null,
   "metadata": {
    "ExecuteTime": {
     "end_time": "2023-10-11T08:59:10.887548Z",
     "start_time": "2023-10-11T08:59:10.872547Z"
    }
   },
   "outputs": [],
   "source": [
    "def evaluate_model_concact(df_labeled, label, verbose=False, by_user=False):\n",
    "    classifiers={\"RF\": RandomForestClassifier(random_state=42),}\n",
    "    df_labeled[\"feat\"] = list(np.concatenate((np.array(df_labeled[\"feat_sf\"].tolist()), np.array(df_labeled[\"feat_netml\"]).tolist()), axis=1))\n",
    "    \n",
    "    if by_user:\n",
    "        df_labeled = df_labeled.replace('1', '7')\n",
    "        user_li = df_labeled.user.tolist()\n",
    "        choice_li = df_labeled.user.unique().tolist()\n",
    "        for item_ in range(np.shape(choice_li)[0]):\n",
    "            if choice_li[item_] == '0':\n",
    "                del choice_li[item_]\n",
    "        random.seed(42)\n",
    "        for item_num in range(0, np.shape(user_li)[0]):\n",
    "            if user_li[item_num] == '0':\n",
    "                user_li[item_num] = random.choice(choice_li)\n",
    "        df_labeled['user'] = user_li\n",
    "        \n",
    "        if np.shape(df_labeled.user.unique())[0] < 5:\n",
    "            gkf = GroupKFold(n_splits=np.shape(df_labeled.user.unique())[0])\n",
    "        else:\n",
    "            gkf = GroupKFold(n_splits=5)\n",
    "        index_li = list(gkf.split(df_labeled, groups=df_labeled.user.tolist()))\n",
    "    else:\n",
    "        kf = KFold(n_splits = 5, shuffle = True, random_state = 42)\n",
    "        index_li = list(kf.split(df_labeled))\n",
    "\n",
    "    if np.shape(df_labeled['device'].unique())[0] > 1:\n",
    "        device = \"combined\"\n",
    "    else:\n",
    "        device = df_labeled['device'].unique()[0]\n",
    "    \n",
    "    df_stats = pd.DataFrame(columns=[\"classifier\", \"device\", \"accuracy\", \"precision\", \"recall\", \"f1_micro\", \"f1_macro\", \"f1_weighted\", \"feature\"])\n",
    "\n",
    "    for key in classifiers:\n",
    "        clf = classifiers[key]\n",
    "        Ytrue_li = []\n",
    "        Ypred_li = []\n",
    "        for train_index, test_index in index_li:\n",
    "            df_train = df_labeled.iloc[train_index].sample(frac=0.85, random_state=42)\n",
    "            df_test = df_labeled.iloc[test_index]\n",
    "                \n",
    "            clf.fit(df_train[\"feat\"].tolist(), df_train[label].tolist())\n",
    "            \n",
    "            Ytrue = df_test[label].tolist()\n",
    "            Ypred = clf.predict(df_test[\"feat\"].tolist())\n",
    "\n",
    "            Ytrue_li.append(Ytrue)\n",
    "            Ypred_li.append(Ypred)\n",
    "            if verbose:\n",
    "                result = permutation_importance(\n",
    "                    clf, df_test[\"feat\"].tolist(), df_test[label].tolist(), n_repeats=10, random_state=42, n_jobs=2\n",
    "                )\n",
    "\n",
    "                feature_sf = ['feature' + str(i) for i in range(400)]\n",
    "                feature_netml = [\"sub_duration_outbound\", \"pkts_rate_outbound\", \"bytes_rate_outbound\", \"np.mean(sizes)_outbound\", \"np.std(sizes)_outbound\", \"q1_size_outbound\", \n",
    "                                   \"q2_size_outbound\", 'q3_size_outbound', \"np.min(sizes)_outbound\", 'np.max(sizes)_outbound', \"np.mean(iats)_outbound\", 'np.std(iats)_outbound', \n",
    "                                   \"q1_iat_outbound\", 'q2_iat_outbound', \"q3_iat_outbound\", \"np.min(iats)_outbound\", 'np.max(iats)_outbound', \"flow_num_outbound\",\n",
    "                                   \"sub_duration_inbound\", \"pkts_rate_inbound\", \"bytes_rate_inbound\", \"np.mean(sizes)_inbound\", \"np.std(sizes)_inbound\", \"q1_size_inbound\", \n",
    "                                   \"q2_size_inbound\", 'q3_size_inbound', \"np.min(sizes)_inbound\", 'np.max(sizes)_inbound', \"np.mean(iats)_inbound\", 'np.std(iats)_inbound', \n",
    "                                   \"q1_iat_inbound\", 'q2_iat_inbound',\" q3_iat_inbound\", \"np.min(iats)_inbound\", 'np.max(iats)_inbound', \"flow_num_inbound\"]\n",
    "                feature_names = feature_sf + feature_netml\n",
    "\n",
    "                importances = pd.Series(result.importances_mean, index=feature_names)\n",
    "                print(key, label)\n",
    "                print(classification_report(Ypred, df_test[label].tolist()))\n",
    "            \n",
    "            acc = accuracy_score(Ytrue, Ypred)\n",
    "            pre = precision_score(Ytrue, Ypred, average='weighted')\n",
    "            rec = recall_score(Ytrue, Ypred, average='weighted')\n",
    "            f1_micro = f1_score(Ytrue, Ypred, average='micro')\n",
    "            f1_macro = f1_score(Ytrue, Ypred, average='macro')\n",
    "            f1_weighted = f1_score(Ytrue, Ypred, average='weighted')\n",
    "\n",
    "            df_stats_this = pd.DataFrame({ \"classifier\": key, \"device\": device,\n",
    "                                          \"feature\": \"feat\", \n",
    "                                          \"accuracy\": acc, \"precision\": pre,\n",
    "                                          \"recall\": rec, \"f1_micro\":f1_micro,\n",
    "                                          \"f1_macro\":f1_macro, \n",
    "                                          \"f1_weighted\":f1_weighted}, index=[0])\n",
    "            df_stats = df_stats.append(df_stats_this, ignore_index=True)\n",
    "    return df_stats"
   ]
  },
  {
   "cell_type": "markdown",
   "metadata": {},
   "source": [
    "## Only fridge"
   ]
  },
  {
   "cell_type": "code",
   "execution_count": null,
   "metadata": {
    "ExecuteTime": {
     "end_time": "2023-10-11T08:59:49.214986Z",
     "start_time": "2023-10-11T08:59:46.108081Z"
    },
    "scrolled": false
   },
   "outputs": [],
   "source": [
    "evaluate_model_concact(df_fridge, 'activity')"
   ]
  },
  {
   "cell_type": "code",
   "execution_count": null,
   "metadata": {
    "ExecuteTime": {
     "end_time": "2023-10-11T09:00:00.369345Z",
     "start_time": "2023-10-11T08:59:56.800913Z"
    },
    "scrolled": true
   },
   "outputs": [],
   "source": [
    "evaluate_model_concact(df_fridge.replace(['put_back_item', 'take_out_item'], 'open_close_fridge'), 'activity')"
   ]
  },
  {
   "cell_type": "markdown",
   "metadata": {},
   "source": [
    "## Only washer"
   ]
  },
  {
   "cell_type": "code",
   "execution_count": null,
   "metadata": {
    "ExecuteTime": {
     "end_time": "2023-10-11T09:02:03.749702Z",
     "start_time": "2023-10-11T09:02:02.325961Z"
    },
    "scrolled": true
   },
   "outputs": [],
   "source": [
    "evaluate_model_concact(df_washer, 'activity')"
   ]
  },
  {
   "cell_type": "markdown",
   "metadata": {},
   "source": [
    "## Only Alexa"
   ]
  },
  {
   "cell_type": "code",
   "execution_count": null,
   "metadata": {
    "ExecuteTime": {
     "end_time": "2023-10-11T09:02:11.164597Z",
     "start_time": "2023-10-11T09:02:10.243636Z"
    },
    "scrolled": true
   },
   "outputs": [],
   "source": [
    "evaluate_model_concact(df_alexa, 'activity')"
   ]
  },
  {
   "cell_type": "markdown",
   "metadata": {},
   "source": [
    "## Only nestcam"
   ]
  },
  {
   "cell_type": "code",
   "execution_count": null,
   "metadata": {
    "ExecuteTime": {
     "end_time": "2023-10-11T09:02:21.566182Z",
     "start_time": "2023-10-11T09:02:20.606680Z"
    },
    "scrolled": true
   },
   "outputs": [],
   "source": [
    "evaluate_model_concact(df_nestcam, 'activity')"
   ]
  },
  {
   "cell_type": "markdown",
   "metadata": {},
   "source": [
    "## Only vacuum"
   ]
  },
  {
   "cell_type": "code",
   "execution_count": null,
   "metadata": {
    "ExecuteTime": {
     "end_time": "2023-10-11T09:02:59.004431Z",
     "start_time": "2023-10-11T09:02:58.065097Z"
    },
    "scrolled": true
   },
   "outputs": [],
   "source": [
    "evaluate_model_concact(df_vacuum, 'activity')"
   ]
  },
  {
   "cell_type": "markdown",
   "metadata": {},
   "source": [
    "## Only vacuum (home)"
   ]
  },
  {
   "cell_type": "code",
   "execution_count": null,
   "metadata": {
    "ExecuteTime": {
     "end_time": "2023-10-11T09:04:19.865943Z",
     "start_time": "2023-10-11T09:04:18.923506Z"
    },
    "scrolled": true
   },
   "outputs": [],
   "source": [
    "evaluate_model_concact(df_vacuum_home, 'activity')"
   ]
  },
  {
   "cell_type": "markdown",
   "metadata": {},
   "source": [
    "# Soft voting"
   ]
  },
  {
   "cell_type": "code",
   "execution_count": null,
   "metadata": {
    "ExecuteTime": {
     "end_time": "2023-10-11T09:07:00.500548Z",
     "start_time": "2023-10-11T09:07:00.482203Z"
    }
   },
   "outputs": [],
   "source": [
    "def fit_multiple_estimators(classifiers, X_list, y, sample_weights = None):\n",
    "\n",
    "    # Convert the labels `y` using LabelEncoder, because the predict method is using index-based pointers\n",
    "    # which will be converted back to original data later.\n",
    "    le_ = LabelEncoder()\n",
    "    le_.fit(y)\n",
    "    transformed_y = le_.transform(y)\n",
    "\n",
    "    # Fit all estimators with their respective feature arrays\n",
    "    estimators_ = [clf.fit(X, y) if sample_weights is None else clf.fit(X, y, sample_weights) for clf, X in zip([clf for _, clf in classifiers], X_list)]\n",
    "\n",
    "    return estimators_, le_\n",
    "\n",
    "\n",
    "def predict_from_multiple_estimator(estimators, label_encoder, X_list, weights = None):\n",
    "    # Predict 'soft' voting with probabilities\n",
    "    pred1 = np.asarray([clf.predict_proba(X) for clf, X in zip(estimators, X_list)])\n",
    "    pred2 = np.average(pred1, axis=0, weights=weights)\n",
    "    pred = np.argmax(pred2, axis=1)\n",
    "\n",
    "    # Convert integer predictions to original labels:\n",
    "    return label_encoder.inverse_transform(pred)\n",
    "\n",
    "def simulate_loss_by_portion_soft(df, portion, loss_type):\n",
    "    df_changed = df.sample(frac=portion/100, random_state=42)\n",
    "    df_unchanged = df.drop(df_changed.index)\n",
    "\n",
    "    if portion != 0:\n",
    "        if loss_type == \"net\":\n",
    "            df_changed[\"feat_netml\"] = [np.zeros(36)]*np.shape(df_changed)[0]\n",
    "        elif loss_type == \"vid\":\n",
    "            df_changed[\"feat_sf\"] = [np.zeros(400)]*np.shape(df_changed)[0]\n",
    "\n",
    "    return pd.concat([df_changed, df_unchanged], ignore_index=True)\n",
    "\n",
    "\n",
    "def evaluate_model_soft_voting(df_labeled, label, by_user = False, loss_type = False, portion=0):\n",
    "    if by_user:\n",
    "        df_labeled = df_labeled.replace('1', '7')\n",
    "        user_li = df_labeled.user.tolist()\n",
    "        choice_li = df_labeled.user.unique().tolist()\n",
    "        for item_ in range(np.shape(choice_li)[0]):\n",
    "            if choice_li[item_] == '0':\n",
    "                del choice_li[item_]\n",
    "        random.seed(42)\n",
    "        for item_num in range(0, np.shape(user_li)[0]):\n",
    "            if user_li[item_num] == '0':\n",
    "                user_li[item_num] = random.choice(choice_li)\n",
    "        df_labeled['user'] = user_li\n",
    "        \n",
    "        if np.shape(df_labeled.user.unique())[0] < 5:\n",
    "            gkf = GroupKFold(n_splits=np.shape(df_labeled.user.unique())[0])\n",
    "        else:\n",
    "            gkf = GroupKFold(n_splits=5)\n",
    "        index_li = list(gkf.split(df_labeled, groups=df_labeled.user.tolist()))\n",
    "    else:\n",
    "        kf = KFold(n_splits = 5, shuffle = True, random_state = 42)\n",
    "        index_li = list(kf.split(df_labeled))\n",
    "\n",
    "    if np.shape(df_labeled['device'].unique())[0] > 1:\n",
    "        device = \"combined\"\n",
    "    else:\n",
    "        device = df_labeled['device'].unique()[0]\n",
    "    \n",
    "    df_stats = pd.DataFrame(columns=[\"classifier\", \"device\", \"accuracy\", \"precision\", \"recall\", \"f1_micro\", \"f1_macro\", \"f1_weighted\", \"feature\"])\n",
    "\n",
    "    Ytrue_li = []\n",
    "    Ypred_li = []\n",
    "    for train_index, test_index in index_li:\n",
    "        classifiers = [(\"OvRLogReg\", OneVsRestClassifier(LogisticRegression(random_state=42))), \n",
    "                   (\"RF\", RandomForestClassifier(random_state=42)),]\n",
    "        df_train = df_labeled.iloc[train_index].sample(frac=0.85, random_state=42)\n",
    "        df_test = df_labeled.iloc[test_index]\n",
    "    \n",
    "        X_train_list = [df_train.feat_sf.tolist(), df_train.feat_netml.tolist()]\n",
    "        \n",
    "        df_test = simulate_loss_by_portion_soft(df_test, portion, loss_type)\n",
    "        X_test_list = [df_test.feat_sf.tolist(), df_test.feat_netml.tolist()]\n",
    "\n",
    "        y_train = df_train[label].tolist()\n",
    "        y_test = df_test[label].tolist()\n",
    "        Ytrue = df_test[label].tolist()\n",
    "\n",
    "        fitted_estimators, label_encoder = fit_multiple_estimators(classifiers, X_train_list, y_train)\n",
    "        Ypred = predict_from_multiple_estimator(fitted_estimators, label_encoder, X_test_list)\n",
    "\n",
    "        Ytrue_li.append(Ytrue)\n",
    "        Ypred_li.append(Ypred)\n",
    "        \n",
    "        acc = accuracy_score(Ytrue, Ypred)\n",
    "        pre = precision_score(Ytrue, Ypred, average='weighted')\n",
    "        rec = recall_score(Ytrue, Ypred, average='weighted')\n",
    "        f1_micro = f1_score(Ytrue, Ypred, average='micro')\n",
    "        f1_macro = f1_score(Ytrue, Ypred, average='macro')\n",
    "        f1_weighted = f1_score(Ytrue, Ypred, average='weighted')\n",
    "\n",
    "        df_stats_this = pd.DataFrame({ \"classifier\": \"soft_voting\", \"device\": device,\n",
    "                                      \"feature\": \"feat\", \n",
    "                                      \"accuracy\": acc, \"precision\": pre,\n",
    "                                      \"recall\": rec, \"f1_micro\":f1_micro,\n",
    "                                      \"f1_macro\":f1_macro, \"f1_weighted\":f1_weighted}, index=[0])\n",
    "        df_stats = df_stats.append(df_stats_this, ignore_index=True)\n",
    "\n",
    "    return df_stats"
   ]
  },
  {
   "cell_type": "markdown",
   "metadata": {},
   "source": [
    "## Only fridge"
   ]
  },
  {
   "cell_type": "code",
   "execution_count": null,
   "metadata": {
    "ExecuteTime": {
     "end_time": "2023-10-11T09:07:56.935141Z",
     "start_time": "2023-10-11T09:07:54.296295Z"
    },
    "scrolled": true
   },
   "outputs": [],
   "source": [
    "evaluate_model_soft_voting(df_fridge, 'activity')"
   ]
  },
  {
   "cell_type": "code",
   "execution_count": null,
   "metadata": {
    "ExecuteTime": {
     "end_time": "2023-10-11T09:08:00.055717Z",
     "start_time": "2023-10-11T09:07:56.936987Z"
    },
    "scrolled": true
   },
   "outputs": [],
   "source": [
    "evaluate_model_soft_voting(df_fridge.replace(['put_back_item', 'take_out_item'], 'open_close_fridge'), 'activity')"
   ]
  },
  {
   "cell_type": "markdown",
   "metadata": {},
   "source": [
    "## Only washer"
   ]
  },
  {
   "cell_type": "code",
   "execution_count": null,
   "metadata": {
    "ExecuteTime": {
     "end_time": "2022-04-24T11:34:34.850197Z",
     "start_time": "2022-04-24T11:34:34.482372Z"
    },
    "scrolled": true
   },
   "outputs": [],
   "source": [
    "evaluate_model_soft_voting(df_washer, 'activity')"
   ]
  },
  {
   "cell_type": "markdown",
   "metadata": {},
   "source": [
    "## Only alexa"
   ]
  },
  {
   "cell_type": "code",
   "execution_count": null,
   "metadata": {
    "ExecuteTime": {
     "end_time": "2022-04-24T11:35:03.548697Z",
     "start_time": "2022-04-24T11:35:03.248603Z"
    },
    "scrolled": true
   },
   "outputs": [],
   "source": [
    "evaluate_model_soft_voting(df_alexa, 'activity')"
   ]
  },
  {
   "cell_type": "markdown",
   "metadata": {},
   "source": [
    "## Only nestcam"
   ]
  },
  {
   "cell_type": "code",
   "execution_count": null,
   "metadata": {
    "ExecuteTime": {
     "end_time": "2022-04-24T11:35:33.513787Z",
     "start_time": "2022-04-24T11:35:33.243220Z"
    },
    "scrolled": true
   },
   "outputs": [],
   "source": [
    "evaluate_model_soft_voting(df_nestcam, 'activity')"
   ]
  },
  {
   "cell_type": "markdown",
   "metadata": {},
   "source": [
    "## Only vacuum"
   ]
  },
  {
   "cell_type": "code",
   "execution_count": null,
   "metadata": {
    "ExecuteTime": {
     "end_time": "2023-10-11T09:09:55.810577Z",
     "start_time": "2023-10-11T09:09:54.360971Z"
    },
    "scrolled": true
   },
   "outputs": [],
   "source": [
    "evaluate_model_soft_voting(df_vacuum, 'activity')"
   ]
  },
  {
   "cell_type": "markdown",
   "metadata": {},
   "source": [
    "## Only vacuum (home)"
   ]
  },
  {
   "cell_type": "code",
   "execution_count": null,
   "metadata": {
    "ExecuteTime": {
     "end_time": "2023-10-11T09:10:03.152173Z",
     "start_time": "2023-10-11T09:10:01.772198Z"
    },
    "scrolled": true
   },
   "outputs": [],
   "source": [
    "evaluate_model_soft_voting(df_vacuum_home, 'activity')"
   ]
  },
  {
   "cell_type": "markdown",
   "metadata": {},
   "source": [
    "# Stacking"
   ]
  },
  {
   "cell_type": "code",
   "execution_count": null,
   "metadata": {
    "ExecuteTime": {
     "end_time": "2023-10-11T09:12:41.868184Z",
     "start_time": "2023-10-11T09:12:41.848341Z"
    }
   },
   "outputs": [],
   "source": [
    "def evaluate_model_stacking(df_labeled, label, verbose=False, number=400, by_user = False):\n",
    "    df_labeled[\"feat\"] = list(np.concatenate((np.array(df_labeled[\"feat_sf\"].tolist()), np.array(df_labeled[\"feat_netml\"]).tolist()), axis=1))\n",
    "    \n",
    "    if by_user:\n",
    "        df_labeled = df_labeled.replace('1', '7')\n",
    "        user_li = df_labeled.user.tolist()\n",
    "        choice_li = df_labeled.user.unique().tolist()\n",
    "        for item_ in range(np.shape(choice_li)[0]):\n",
    "            if choice_li[item_] == '0':\n",
    "                del choice_li[item_]\n",
    "        random.seed(42)\n",
    "        for item_num in range(0, np.shape(user_li)[0]):\n",
    "            if user_li[item_num] == '0':\n",
    "                user_li[item_num] = random.choice(choice_li)\n",
    "        df_labeled['user'] = user_li\n",
    "        \n",
    "        if np.shape(df_labeled.user.unique())[0] < 5:\n",
    "            gkf = GroupKFold(n_splits=np.shape(df_labeled.user.unique())[0])\n",
    "        else:\n",
    "            gkf = GroupKFold(n_splits=5)\n",
    "        index_li = list(gkf.split(df_labeled, groups=df_labeled.user.tolist()))\n",
    "    else:\n",
    "        kf = KFold(n_splits = 5, shuffle = True, random_state = 42)\n",
    "        index_li = list(kf.split(df_labeled))\n",
    "    \n",
    "    if np.shape(df_labeled['device'].unique())[0] > 1:\n",
    "        device = \"combined\"\n",
    "    else:\n",
    "        device = df_labeled['device'].unique()[0]\n",
    "    \n",
    "    df_stats = pd.DataFrame(columns=[\"classifier\", \"device\", \"accuracy\", \"precision\", \"recall\", \"f1_micro\", \"f1_macro\", \"f1_weighted\", \"feature\"])\n",
    "\n",
    "    Ytrue_li = []\n",
    "    Ypred_li = []\n",
    "    for train_index, test_index in index_li:\n",
    "        clf_1 = OneVsRestClassifier(LogisticRegression(random_state=42))\n",
    "        clf_2 = RandomForestClassifier(random_state=42)\n",
    "        fclf = RandomForestClassifier(random_state=42)\n",
    "        \n",
    "        df_train = df_labeled.iloc[train_index]\n",
    "        df_test = df_labeled.iloc[test_index]\n",
    "        \n",
    "        df_base_train = df_train.sample(frac=0.85, random_state=42)\n",
    "        df_meta_train_all = df_train.loc[~df_train.index.isin(df_base_train.index.tolist())]\n",
    "        \n",
    "        df_meta_train = df_train.loc[~df_train.index.isin(df_base_train.index.tolist())]\n",
    "        \n",
    "        if number == 400:\n",
    "            df_meta_train = df_meta_train.groupby(label).sample(frac=1, random_state=42)\n",
    "        else:\n",
    "            df_meta_train = df_meta_train_all.sample(n=number, random_state=42, replace=True)\n",
    "    \n",
    "        X_base_train = np.array(df_base_train.feat.tolist())\n",
    "\n",
    "        \n",
    "        X_meta_train = np.array(df_meta_train.feat.tolist())\n",
    "        X_test = np.array(df_test.feat.tolist())\n",
    "\n",
    "        y_base_train = np.array(df_base_train[label].tolist())\n",
    "        y_meta_train = np.array(df_meta_train[label].tolist())\n",
    "        y_test = np.array(df_test[label].tolist())\n",
    "        \n",
    "        clf_1.fit(X_base_train[:, :400], y_base_train)\n",
    "        clf_2.fit(X_base_train[:, 400:], y_base_train)\n",
    "        \n",
    "        ft1_meta_train = clf_1.predict_proba(X_meta_train[:, :400])\n",
    "        ft2_meta_train = clf_2.predict_proba(X_meta_train[:, 400:])\n",
    "        \n",
    "        ft_meta_train = np.concatenate((ft1_meta_train, ft2_meta_train), axis=1)\n",
    "\n",
    "        fclf.fit(ft_meta_train, y_meta_train)\n",
    "        \n",
    "        Ytrue = np.array(df_test[label].tolist())\n",
    "        ft_test = np.concatenate((clf_1.predict_proba(X_test[:, :400]), clf_2.predict_proba(X_test[:, 400:])), axis=1)\n",
    "        Ypred = fclf.predict(ft_test)\n",
    "\n",
    "        Ytrue_li.append(Ytrue)\n",
    "        Ypred_li.append(Ypred)\n",
    "        \n",
    "        if verbose:\n",
    "            result = permutation_importance(\n",
    "                    fclf, X_test, y_test, n_repeats=10, random_state=42, n_jobs=2\n",
    "                )\n",
    "\n",
    "            feature_sf = ['feature' + str(i) for i in range(400)]\n",
    "            feature_netml = [\"sub_duration_outbound\", \"pkts_rate_outbound\", \"bytes_rate_outbound\", \"np.mean(sizes)_outbound\", \"np.std(sizes)_outbound\", \"q1_size_outbound\", \n",
    "                               \"q2_size_outbound\", 'q3_size_outbound', \"np.min(sizes)_outbound\", 'np.max(sizes)_outbound', \"np.mean(iats)_outbound\", 'np.std(iats)_outbound', \n",
    "                               \"q1_iat_outbound\", 'q2_iat_outbound', \"q3_iat_outbound\", \"np.min(iats)_outbound\", 'np.max(iats)_outbound', \"flow_num_outbound\",\n",
    "                               \"sub_duration_inbound\", \"pkts_rate_inbound\", \"bytes_rate_inbound\", \"np.mean(sizes)_inbound\", \"np.std(sizes)_inbound\", \"q1_size_inbound\", \n",
    "                               \"q2_size_inbound\", 'q3_size_inbound', \"np.min(sizes)_inbound\", 'np.max(sizes)_inbound', \"np.mean(iats)_inbound\", 'np.std(iats)_inbound', \n",
    "                               \"q1_iat_inbound\", 'q2_iat_inbound',\" q3_iat_inbound\", \"np.min(iats)_inbound\", 'np.max(iats)_inbound', \"flow_num_inbound\"]\n",
    "            feature_names = feature_sf + feature_netml\n",
    "\n",
    "            importances = pd.Series(result.importances_mean, index=feature_names)\n",
    "        \n",
    "        acc = accuracy_score(Ytrue, Ypred)\n",
    "        pre = precision_score(Ytrue, Ypred, average='weighted')\n",
    "        rec = recall_score(Ytrue, Ypred, average='weighted')\n",
    "        f1_micro = f1_score(Ytrue, Ypred, average='micro')\n",
    "        f1_macro = f1_score(Ytrue, Ypred, average='macro')\n",
    "        f1_weighted = f1_score(Ytrue, Ypred, average='weighted')\n",
    "\n",
    "        df_stats_this = pd.DataFrame({ \"classifier\": \"stacking\", \"device\": device,\n",
    "                                      \"feature\": \"feat\", \n",
    "                                      \"accuracy\": acc, \"precision\": pre,\n",
    "                                      \"recall\": rec, \"f1_micro\":f1_micro,\n",
    "                                      \"f1_macro\":f1_macro, \n",
    "                                      \"f1_weighted\":f1_weighted}, index=[0])\n",
    "        df_stats = df_stats.append(df_stats_this, ignore_index=True)\n",
    "    return df_stats"
   ]
  },
  {
   "cell_type": "markdown",
   "metadata": {},
   "source": [
    "## Only fridge"
   ]
  },
  {
   "cell_type": "code",
   "execution_count": null,
   "metadata": {
    "ExecuteTime": {
     "end_time": "2023-10-11T09:12:58.593448Z",
     "start_time": "2023-10-11T09:12:55.150509Z"
    }
   },
   "outputs": [],
   "source": [
    "evaluate_model_stacking(df_fridge, 'activity')"
   ]
  },
  {
   "cell_type": "code",
   "execution_count": null,
   "metadata": {
    "ExecuteTime": {
     "end_time": "2023-10-11T09:13:08.322391Z",
     "start_time": "2023-10-11T09:13:04.461446Z"
    }
   },
   "outputs": [],
   "source": [
    "evaluate_model_stacking(df_fridge.replace(['put_back_item', 'take_out_item'], 'open_close_fridge'), 'activity')"
   ]
  },
  {
   "cell_type": "markdown",
   "metadata": {},
   "source": [
    "## Only washer"
   ]
  },
  {
   "cell_type": "code",
   "execution_count": null,
   "metadata": {
    "ExecuteTime": {
     "end_time": "2022-11-04T21:36:08.832022Z",
     "start_time": "2022-11-04T21:35:28.654878Z"
    }
   },
   "outputs": [],
   "source": [
    "evaluate_model_stacking(df_washer, 'activity')"
   ]
  },
  {
   "cell_type": "markdown",
   "metadata": {},
   "source": [
    "## Only alexa"
   ]
  },
  {
   "cell_type": "code",
   "execution_count": null,
   "metadata": {
    "ExecuteTime": {
     "end_time": "2022-11-04T21:37:38.350798Z",
     "start_time": "2022-11-04T21:36:56.339570Z"
    }
   },
   "outputs": [],
   "source": [
    "evaluate_model_stacking(df_alexa, 'activity')"
   ]
  },
  {
   "cell_type": "markdown",
   "metadata": {},
   "source": [
    "## Only nestcam"
   ]
  },
  {
   "cell_type": "code",
   "execution_count": null,
   "metadata": {
    "ExecuteTime": {
     "end_time": "2023-10-11T09:15:08.056401Z",
     "start_time": "2023-10-11T09:15:05.918458Z"
    }
   },
   "outputs": [],
   "source": [
    "evaluate_model_stacking(df_nestcam, 'activity')"
   ]
  },
  {
   "cell_type": "markdown",
   "metadata": {},
   "source": [
    "## Only vacuum "
   ]
  },
  {
   "cell_type": "code",
   "execution_count": null,
   "metadata": {
    "ExecuteTime": {
     "end_time": "2023-10-11T09:15:02.251073Z",
     "start_time": "2023-10-11T09:14:59.888974Z"
    },
    "scrolled": true
   },
   "outputs": [],
   "source": [
    "evaluate_model_stacking(df_vacuum, 'activity')"
   ]
  },
  {
   "cell_type": "markdown",
   "metadata": {},
   "source": [
    "## Only vacuum (home)"
   ]
  },
  {
   "cell_type": "code",
   "execution_count": null,
   "metadata": {
    "ExecuteTime": {
     "end_time": "2023-10-11T09:14:23.105048Z",
     "start_time": "2023-10-11T09:14:21.031294Z"
    },
    "scrolled": true
   },
   "outputs": [],
   "source": [
    "evaluate_model_stacking(df_vacuum_home, 'activity')"
   ]
  },
  {
   "cell_type": "code",
   "execution_count": null,
   "metadata": {},
   "outputs": [],
   "source": []
  }
 ],
 "metadata": {
  "accelerator": "GPU",
  "colab": {
   "collapsed_sections": [],
   "name": "Copy of IOT_Classification_Challenge 2.ipynb",
   "provenance": []
  },
  "hide_input": false,
  "kernelspec": {
   "display_name": "Python 3 (ipykernel)",
   "language": "python",
   "name": "python3"
  },
  "language_info": {
   "codemirror_mode": {
    "name": "ipython",
    "version": 3
   },
   "file_extension": ".py",
   "mimetype": "text/x-python",
   "name": "python",
   "nbconvert_exporter": "python",
   "pygments_lexer": "ipython3",
   "version": "3.8.5"
  },
  "latex_envs": {
   "LaTeX_envs_menu_present": true,
   "autoclose": false,
   "autocomplete": true,
   "bibliofile": "biblio.bib",
   "cite_by": "apalike",
   "current_citInitial": 1,
   "eqLabelWithNumbers": true,
   "eqNumInitial": 1,
   "hotkeys": {
    "equation": "Ctrl-E",
    "itemize": "Ctrl-I"
   },
   "labels_anchors": false,
   "latex_user_defs": false,
   "report_style_numbering": false,
   "user_envs_cfg": false
  },
  "nbTranslate": {
   "displayLangs": [
    "*"
   ],
   "hotkey": "alt-t",
   "langInMainMenu": true,
   "sourceLang": "en",
   "targetLang": "fr",
   "useGoogleTranslate": true
  },
  "toc": {
   "base_numbering": 1,
   "nav_menu": {},
   "number_sections": true,
   "sideBar": true,
   "skip_h1_title": false,
   "title_cell": "Table of Contents",
   "title_sidebar": "Contents",
   "toc_cell": false,
   "toc_position": {
    "height": "calc(100% - 180px)",
    "left": "10px",
    "top": "150px",
    "width": "239px"
   },
   "toc_section_display": true,
   "toc_window_display": true
  },
  "vscode": {
   "interpreter": {
    "hash": "f9f85f796d01129d0dd105a088854619f454435301f6ffec2fea96ecbd9be4ac"
   }
  },
  "widgets": {
   "application/vnd.jupyter.widget-state+json": {
    "1035732c97b24283bde37febdce5d03d": {
     "model_module": "@jupyter-widgets/controls",
     "model_module_version": "1.5.0",
     "model_name": "DescriptionStyleModel",
     "state": {
      "_model_module": "@jupyter-widgets/controls",
      "_model_module_version": "1.5.0",
      "_model_name": "DescriptionStyleModel",
      "_view_count": null,
      "_view_module": "@jupyter-widgets/base",
      "_view_module_version": "1.2.0",
      "_view_name": "StyleView",
      "description_width": ""
     }
    },
    "16d15326aac440c5b3349053ba818d13": {
     "model_module": "@jupyter-widgets/controls",
     "model_module_version": "1.5.0",
     "model_name": "ProgressStyleModel",
     "state": {
      "_model_module": "@jupyter-widgets/controls",
      "_model_module_version": "1.5.0",
      "_model_name": "ProgressStyleModel",
      "_view_count": null,
      "_view_module": "@jupyter-widgets/base",
      "_view_module_version": "1.2.0",
      "_view_name": "StyleView",
      "bar_color": null,
      "description_width": ""
     }
    },
    "1b6d127cb7894e02824a5bd42cb14699": {
     "model_module": "@jupyter-widgets/controls",
     "model_module_version": "1.5.0",
     "model_name": "HTMLModel",
     "state": {
      "_dom_classes": [],
      "_model_module": "@jupyter-widgets/controls",
      "_model_module_version": "1.5.0",
      "_model_name": "HTMLModel",
      "_view_count": null,
      "_view_module": "@jupyter-widgets/controls",
      "_view_module_version": "1.5.0",
      "_view_name": "HTMLView",
      "description": "",
      "description_tooltip": null,
      "layout": "IPY_MODEL_890b6077a9e14d4d881010014f71ddf4",
      "placeholder": "​",
      "style": "IPY_MODEL_64f3ac46331b4c6895f190526d999944",
      "value": " 248M/248M [00:05&lt;00:00, 42.1MB/s]"
     }
    },
    "3b44d4bd18d44e51aa011403d591f90a": {
     "model_module": "@jupyter-widgets/base",
     "model_module_version": "1.2.0",
     "model_name": "LayoutModel",
     "state": {
      "_model_module": "@jupyter-widgets/base",
      "_model_module_version": "1.2.0",
      "_model_name": "LayoutModel",
      "_view_count": null,
      "_view_module": "@jupyter-widgets/base",
      "_view_module_version": "1.2.0",
      "_view_name": "LayoutView",
      "align_content": null,
      "align_items": null,
      "align_self": null,
      "border": null,
      "bottom": null,
      "display": null,
      "flex": null,
      "flex_flow": null,
      "grid_area": null,
      "grid_auto_columns": null,
      "grid_auto_flow": null,
      "grid_auto_rows": null,
      "grid_column": null,
      "grid_gap": null,
      "grid_row": null,
      "grid_template_areas": null,
      "grid_template_columns": null,
      "grid_template_rows": null,
      "height": null,
      "justify_content": null,
      "justify_items": null,
      "left": null,
      "margin": null,
      "max_height": null,
      "max_width": null,
      "min_height": null,
      "min_width": null,
      "object_fit": null,
      "object_position": null,
      "order": null,
      "overflow": null,
      "overflow_x": null,
      "overflow_y": null,
      "padding": null,
      "right": null,
      "top": null,
      "visibility": null,
      "width": null
     }
    },
    "462c88924fe0404db2f24bb814146c0b": {
     "model_module": "@jupyter-widgets/base",
     "model_module_version": "1.2.0",
     "model_name": "LayoutModel",
     "state": {
      "_model_module": "@jupyter-widgets/base",
      "_model_module_version": "1.2.0",
      "_model_name": "LayoutModel",
      "_view_count": null,
      "_view_module": "@jupyter-widgets/base",
      "_view_module_version": "1.2.0",
      "_view_name": "LayoutView",
      "align_content": null,
      "align_items": null,
      "align_self": null,
      "border": null,
      "bottom": null,
      "display": null,
      "flex": null,
      "flex_flow": null,
      "grid_area": null,
      "grid_auto_columns": null,
      "grid_auto_flow": null,
      "grid_auto_rows": null,
      "grid_column": null,
      "grid_gap": null,
      "grid_row": null,
      "grid_template_areas": null,
      "grid_template_columns": null,
      "grid_template_rows": null,
      "height": null,
      "justify_content": null,
      "justify_items": null,
      "left": null,
      "margin": null,
      "max_height": null,
      "max_width": null,
      "min_height": null,
      "min_width": null,
      "object_fit": null,
      "object_position": null,
      "order": null,
      "overflow": null,
      "overflow_x": null,
      "overflow_y": null,
      "padding": null,
      "right": null,
      "top": null,
      "visibility": null,
      "width": null
     }
    },
    "49a5098ba7284444b38e63585de85fd6": {
     "model_module": "@jupyter-widgets/controls",
     "model_module_version": "1.5.0",
     "model_name": "HBoxModel",
     "state": {
      "_dom_classes": [],
      "_model_module": "@jupyter-widgets/controls",
      "_model_module_version": "1.5.0",
      "_model_name": "HBoxModel",
      "_view_count": null,
      "_view_module": "@jupyter-widgets/controls",
      "_view_module_version": "1.5.0",
      "_view_name": "HBoxView",
      "box_style": "",
      "children": [
       "IPY_MODEL_b7e71929bccb4e1993dcf9500ae0d9d0",
       "IPY_MODEL_9ef14f38ff2e493cadfcb137491466ae",
       "IPY_MODEL_1b6d127cb7894e02824a5bd42cb14699"
      ],
      "layout": "IPY_MODEL_462c88924fe0404db2f24bb814146c0b"
     }
    },
    "64f3ac46331b4c6895f190526d999944": {
     "model_module": "@jupyter-widgets/controls",
     "model_module_version": "1.5.0",
     "model_name": "DescriptionStyleModel",
     "state": {
      "_model_module": "@jupyter-widgets/controls",
      "_model_module_version": "1.5.0",
      "_model_name": "DescriptionStyleModel",
      "_view_count": null,
      "_view_module": "@jupyter-widgets/base",
      "_view_module_version": "1.2.0",
      "_view_name": "StyleView",
      "description_width": ""
     }
    },
    "782ece2a0bbc4447b61a9f05b271aa8d": {
     "model_module": "@jupyter-widgets/base",
     "model_module_version": "1.2.0",
     "model_name": "LayoutModel",
     "state": {
      "_model_module": "@jupyter-widgets/base",
      "_model_module_version": "1.2.0",
      "_model_name": "LayoutModel",
      "_view_count": null,
      "_view_module": "@jupyter-widgets/base",
      "_view_module_version": "1.2.0",
      "_view_name": "LayoutView",
      "align_content": null,
      "align_items": null,
      "align_self": null,
      "border": null,
      "bottom": null,
      "display": null,
      "flex": null,
      "flex_flow": null,
      "grid_area": null,
      "grid_auto_columns": null,
      "grid_auto_flow": null,
      "grid_auto_rows": null,
      "grid_column": null,
      "grid_gap": null,
      "grid_row": null,
      "grid_template_areas": null,
      "grid_template_columns": null,
      "grid_template_rows": null,
      "height": null,
      "justify_content": null,
      "justify_items": null,
      "left": null,
      "margin": null,
      "max_height": null,
      "max_width": null,
      "min_height": null,
      "min_width": null,
      "object_fit": null,
      "object_position": null,
      "order": null,
      "overflow": null,
      "overflow_x": null,
      "overflow_y": null,
      "padding": null,
      "right": null,
      "top": null,
      "visibility": null,
      "width": null
     }
    },
    "890b6077a9e14d4d881010014f71ddf4": {
     "model_module": "@jupyter-widgets/base",
     "model_module_version": "1.2.0",
     "model_name": "LayoutModel",
     "state": {
      "_model_module": "@jupyter-widgets/base",
      "_model_module_version": "1.2.0",
      "_model_name": "LayoutModel",
      "_view_count": null,
      "_view_module": "@jupyter-widgets/base",
      "_view_module_version": "1.2.0",
      "_view_name": "LayoutView",
      "align_content": null,
      "align_items": null,
      "align_self": null,
      "border": null,
      "bottom": null,
      "display": null,
      "flex": null,
      "flex_flow": null,
      "grid_area": null,
      "grid_auto_columns": null,
      "grid_auto_flow": null,
      "grid_auto_rows": null,
      "grid_column": null,
      "grid_gap": null,
      "grid_row": null,
      "grid_template_areas": null,
      "grid_template_columns": null,
      "grid_template_rows": null,
      "height": null,
      "justify_content": null,
      "justify_items": null,
      "left": null,
      "margin": null,
      "max_height": null,
      "max_width": null,
      "min_height": null,
      "min_width": null,
      "object_fit": null,
      "object_position": null,
      "order": null,
      "overflow": null,
      "overflow_x": null,
      "overflow_y": null,
      "padding": null,
      "right": null,
      "top": null,
      "visibility": null,
      "width": null
     }
    },
    "9ef14f38ff2e493cadfcb137491466ae": {
     "model_module": "@jupyter-widgets/controls",
     "model_module_version": "1.5.0",
     "model_name": "FloatProgressModel",
     "state": {
      "_dom_classes": [],
      "_model_module": "@jupyter-widgets/controls",
      "_model_module_version": "1.5.0",
      "_model_name": "FloatProgressModel",
      "_view_count": null,
      "_view_module": "@jupyter-widgets/controls",
      "_view_module_version": "1.5.0",
      "_view_name": "ProgressView",
      "bar_style": "success",
      "description": "",
      "description_tooltip": null,
      "layout": "IPY_MODEL_3b44d4bd18d44e51aa011403d591f90a",
      "max": 260018489,
      "min": 0,
      "orientation": "horizontal",
      "style": "IPY_MODEL_16d15326aac440c5b3349053ba818d13",
      "value": 260018489
     }
    },
    "b7e71929bccb4e1993dcf9500ae0d9d0": {
     "model_module": "@jupyter-widgets/controls",
     "model_module_version": "1.5.0",
     "model_name": "HTMLModel",
     "state": {
      "_dom_classes": [],
      "_model_module": "@jupyter-widgets/controls",
      "_model_module_version": "1.5.0",
      "_model_name": "HTMLModel",
      "_view_count": null,
      "_view_module": "@jupyter-widgets/controls",
      "_view_module_version": "1.5.0",
      "_view_name": "HTMLView",
      "description": "",
      "description_tooltip": null,
      "layout": "IPY_MODEL_782ece2a0bbc4447b61a9f05b271aa8d",
      "placeholder": "​",
      "style": "IPY_MODEL_1035732c97b24283bde37febdce5d03d",
      "value": "100%"
     }
    }
   }
  }
 },
 "nbformat": 4,
 "nbformat_minor": 1
}
